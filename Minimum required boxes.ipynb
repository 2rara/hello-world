{
 "cells": [
  {
   "cell_type": "code",
   "execution_count": 1,
   "id": "468a8a98",
   "metadata": {},
   "outputs": [],
   "source": [
    "import math"
   ]
  },
  {
   "cell_type": "code",
   "execution_count": 2,
   "id": "cb2cc9bb",
   "metadata": {},
   "outputs": [],
   "source": [
    "def minimal_package(x, big, small):\n",
    "    # If your capacity is enough, proceed.\n",
    "    if big*5+small >= x and x>0:\n",
    "        q, mod = divmod(x, 5)\n",
    "        # Check if you need to use your small boxes.\n",
    "        if x < 5:\n",
    "            # One big bix is enough.\n",
    "            return (1, 0)\n",
    "        elif big*5 == x:\n",
    "            # You have just enough bix boxes. Just use them all.\n",
    "            return (q, 0)\n",
    "        elif big*5 > x:\n",
    "            # You have more than enough bix boxes. Just use the minimum number.\n",
    "            return (math.ceil(x/5), 0)\n",
    "        else:\n",
    "            # If your small boxes are enough, use them.\n",
    "            if  small >= mod:\n",
    "                return(big, x-big*5)\n",
    "            # If your small boxes aren't enough, return -1 for it.\n",
    "            else:\n",
    "                return (big, -1)\n",
    "    # If your capacity isn't enough for the given number, return -1 for both.\n",
    "    else:\n",
    "        return (-1,-1)"
   ]
  },
  {
   "cell_type": "code",
   "execution_count": 3,
   "id": "c476dd24",
   "metadata": {},
   "outputs": [
    {
     "data": {
      "text/plain": [
       "(2, 3)"
      ]
     },
     "execution_count": 3,
     "metadata": {},
     "output_type": "execute_result"
    }
   ],
   "source": [
    "# Expect (2,3)\n",
    "minimal_package(13, 2, 3)"
   ]
  },
  {
   "cell_type": "code",
   "execution_count": 4,
   "id": "35664815",
   "metadata": {},
   "outputs": [
    {
     "data": {
      "text/plain": [
       "(2, 3)"
      ]
     },
     "execution_count": 4,
     "metadata": {},
     "output_type": "execute_result"
    }
   ],
   "source": [
    "# Expect (2,3)\n",
    "minimal_package(13, 2, 4)"
   ]
  },
  {
   "cell_type": "code",
   "execution_count": 5,
   "id": "a43fb2e8",
   "metadata": {},
   "outputs": [
    {
     "data": {
      "text/plain": [
       "(1, 5)"
      ]
     },
     "execution_count": 5,
     "metadata": {},
     "output_type": "execute_result"
    }
   ],
   "source": [
    "# Expect (1, 5)\n",
    "minimal_package(10,1,5)"
   ]
  },
  {
   "cell_type": "code",
   "execution_count": 6,
   "id": "62f30b0d",
   "metadata": {},
   "outputs": [
    {
     "data": {
      "text/plain": [
       "(1, 5)"
      ]
     },
     "execution_count": 6,
     "metadata": {},
     "output_type": "execute_result"
    }
   ],
   "source": [
    "# Expect (1, 5)\n",
    "minimal_package(10,1,7)"
   ]
  },
  {
   "cell_type": "code",
   "execution_count": 7,
   "id": "d097fab0",
   "metadata": {},
   "outputs": [
    {
     "data": {
      "text/plain": [
       "(-1, -1)"
      ]
     },
     "execution_count": 7,
     "metadata": {},
     "output_type": "execute_result"
    }
   ],
   "source": [
    "# Expect (-1,-1)\n",
    "minimal_package(10, 1, 3)"
   ]
  },
  {
   "cell_type": "code",
   "execution_count": 8,
   "id": "87c1889a",
   "metadata": {},
   "outputs": [
    {
     "data": {
      "text/plain": [
       "(2, 0)"
      ]
     },
     "execution_count": 8,
     "metadata": {},
     "output_type": "execute_result"
    }
   ],
   "source": [
    "# Expect (2,0)\n",
    "minimal_package(10, 2, 0)"
   ]
  },
  {
   "cell_type": "code",
   "execution_count": 9,
   "id": "b2c9a808",
   "metadata": {},
   "outputs": [
    {
     "data": {
      "text/plain": [
       "(-1, -1)"
      ]
     },
     "execution_count": 9,
     "metadata": {},
     "output_type": "execute_result"
    }
   ],
   "source": [
    "# Expect (-1, -1)\n",
    "minimal_package(3, 0, 0)"
   ]
  },
  {
   "cell_type": "code",
   "execution_count": 10,
   "id": "cf209cb2",
   "metadata": {},
   "outputs": [
    {
     "data": {
      "text/plain": [
       "(1, 0)"
      ]
     },
     "execution_count": 10,
     "metadata": {},
     "output_type": "execute_result"
    }
   ],
   "source": [
    "# Expect (1,0)\n",
    "minimal_package(5, 2, 1)"
   ]
  },
  {
   "cell_type": "code",
   "execution_count": 11,
   "id": "25c1a0c2",
   "metadata": {},
   "outputs": [
    {
     "data": {
      "text/plain": [
       "(1, 0)"
      ]
     },
     "execution_count": 11,
     "metadata": {},
     "output_type": "execute_result"
    }
   ],
   "source": [
    "# Expect (1,0)\n",
    "minimal_package(3, 1, 1)"
   ]
  },
  {
   "cell_type": "code",
   "execution_count": 12,
   "id": "78c83c5c",
   "metadata": {},
   "outputs": [
    {
     "data": {
      "text/plain": [
       "(1, 0)"
      ]
     },
     "execution_count": 12,
     "metadata": {},
     "output_type": "execute_result"
    }
   ],
   "source": [
    "# Expect (1,0)\n",
    "minimal_package(3, 2, 1)"
   ]
  },
  {
   "cell_type": "code",
   "execution_count": 13,
   "id": "8d90fc06",
   "metadata": {},
   "outputs": [
    {
     "data": {
      "text/plain": [
       "(-1, -1)"
      ]
     },
     "execution_count": 13,
     "metadata": {},
     "output_type": "execute_result"
    }
   ],
   "source": [
    "# Expect (-1,-1)\n",
    "minimal_package(0, 2, 1)"
   ]
  },
  {
   "cell_type": "code",
   "execution_count": 14,
   "id": "bad48a44",
   "metadata": {},
   "outputs": [
    {
     "data": {
      "text/plain": [
       "(2, 0)"
      ]
     },
     "execution_count": 14,
     "metadata": {},
     "output_type": "execute_result"
    }
   ],
   "source": [
    "# Expect (2, 0)\n",
    "minimal_package(7, 2, 10)"
   ]
  }
 ],
 "metadata": {
  "kernelspec": {
   "display_name": "Python 3",
   "language": "python",
   "name": "python3"
  },
  "language_info": {
   "codemirror_mode": {
    "name": "ipython",
    "version": 3
   },
   "file_extension": ".py",
   "mimetype": "text/x-python",
   "name": "python",
   "nbconvert_exporter": "python",
   "pygments_lexer": "ipython3",
   "version": "3.8.10"
  }
 },
 "nbformat": 4,
 "nbformat_minor": 5
}
