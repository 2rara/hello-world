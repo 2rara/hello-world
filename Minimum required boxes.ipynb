{
 "cells": [
  {
   "cell_type": "code",
   "execution_count": 1,
   "id": "cb2cc9bb",
   "metadata": {},
   "outputs": [],
   "source": [
    "def minimal_package(x, big, small):\n",
    "    # If your capacity is enough fo \n",
    "    if big*5+small>=x:\n",
    "        q, mod = divmod(x, 5)\n",
    "        # Check if you need to use your small boxes.\n",
    "        if  x / 5 != 0 and x>5:\n",
    "            # If your small boxes are enough, use them.\n",
    "            if  small >= mod:\n",
    "                if big > q:\n",
    "                    return (q, mod)\n",
    "                else:\n",
    "                    return(big, x-big*5)\n",
    "                # If your small boxes aren't enough, return -1 for it.\n",
    "            else:\n",
    "                return (q, -1)\n",
    "        # If you don't need to use your small boxes, just use the bix boxes.\n",
    "        else:\n",
    "            return (5//x, 0)\n",
    "    # If your capacity isn't enough for the given number, return -1 for both.\n",
    "    else:\n",
    "        return (-1,-1)"
   ]
  },
  {
   "cell_type": "code",
   "execution_count": 2,
   "id": "c476dd24",
   "metadata": {},
   "outputs": [
    {
     "data": {
      "text/plain": [
       "(2, 3)"
      ]
     },
     "execution_count": 2,
     "metadata": {},
     "output_type": "execute_result"
    }
   ],
   "source": [
    "minimal_package(13, 2, 3)"
   ]
  },
  {
   "cell_type": "code",
   "execution_count": 3,
   "id": "d097fab0",
   "metadata": {},
   "outputs": [
    {
     "data": {
      "text/plain": [
       "(1, 5)"
      ]
     },
     "execution_count": 3,
     "metadata": {},
     "output_type": "execute_result"
    }
   ],
   "source": [
    "minimal_package(10,1,5)"
   ]
  },
  {
   "cell_type": "code",
   "execution_count": 4,
   "id": "87c1889a",
   "metadata": {},
   "outputs": [
    {
     "data": {
      "text/plain": [
       "(-1, -1)"
      ]
     },
     "execution_count": 4,
     "metadata": {},
     "output_type": "execute_result"
    }
   ],
   "source": [
    "minimal_package(10,1,1)"
   ]
  },
  {
   "cell_type": "code",
   "execution_count": 5,
   "id": "b2c9a808",
   "metadata": {},
   "outputs": [
    {
     "data": {
      "text/plain": [
       "(-1, -1)"
      ]
     },
     "execution_count": 5,
     "metadata": {},
     "output_type": "execute_result"
    }
   ],
   "source": [
    "minimal_package(10,1,0)"
   ]
  },
  {
   "cell_type": "code",
   "execution_count": 6,
   "id": "cf209cb2",
   "metadata": {},
   "outputs": [
    {
     "data": {
      "text/plain": [
       "(1, 0)"
      ]
     },
     "execution_count": 6,
     "metadata": {},
     "output_type": "execute_result"
    }
   ],
   "source": [
    "minimal_package(5,2,1)"
   ]
  },
  {
   "cell_type": "code",
   "execution_count": null,
   "id": "25c1a0c2",
   "metadata": {},
   "outputs": [],
   "source": []
  }
 ],
 "metadata": {
  "kernelspec": {
   "display_name": "Python 3",
   "language": "python",
   "name": "python3"
  },
  "language_info": {
   "codemirror_mode": {
    "name": "ipython",
    "version": 3
   },
   "file_extension": ".py",
   "mimetype": "text/x-python",
   "name": "python",
   "nbconvert_exporter": "python",
   "pygments_lexer": "ipython3",
   "version": "3.8.10"
  }
 },
 "nbformat": 4,
 "nbformat_minor": 5
}
