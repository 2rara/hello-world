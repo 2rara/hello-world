{
 "cells": [
  {
   "cell_type": "code",
   "execution_count": 29,
   "id": "468a8a98",
   "metadata": {},
   "outputs": [],
   "source": [
    "import math"
   ]
  },
  {
   "cell_type": "code",
   "execution_count": 30,
   "id": "cb2cc9bb",
   "metadata": {},
   "outputs": [],
   "source": [
    "def minimal_package(given, big, small):\n",
    "\n",
    "    # If your capacity isn't big enough, assign -1 to return values.\n",
    "    x = -1\n",
    "    y = -1\n",
    "\n",
    "    # If your capacity is enough, assign the right values as follows.\n",
    "    if 5*big+small >= given and given>0:\n",
    "        \n",
    "        # Check if you have enough big boxes to cover everything.\n",
    "        q = 5*big - given\n",
    "\n",
    "        # Case 1: You have enough big boxes to cover everything.\n",
    "        if q >= 0:\n",
    "            x = math.ceil(given/5)\n",
    "            y = 0\n",
    "        # Case 2: You have to use small box(es).\n",
    "        else:\n",
    "            x = big\n",
    "            y = given - 5*x\n",
    "\n",
    "    return(x,y)"
   ]
  },
  {
   "cell_type": "code",
   "execution_count": 31,
   "id": "c476dd24",
   "metadata": {},
   "outputs": [
    {
     "data": {
      "text/plain": [
       "(2, 3)"
      ]
     },
     "execution_count": 31,
     "metadata": {},
     "output_type": "execute_result"
    }
   ],
   "source": [
    "# Expect (2,3)\n",
    "minimal_package(13, 2, 3)"
   ]
  },
  {
   "cell_type": "code",
   "execution_count": 32,
   "id": "35664815",
   "metadata": {},
   "outputs": [
    {
     "data": {
      "text/plain": [
       "(2, 3)"
      ]
     },
     "execution_count": 32,
     "metadata": {},
     "output_type": "execute_result"
    }
   ],
   "source": [
    "# Expect (2,3)\n",
    "minimal_package(13, 2, 4)"
   ]
  },
  {
   "cell_type": "code",
   "execution_count": 33,
   "id": "a43fb2e8",
   "metadata": {},
   "outputs": [
    {
     "data": {
      "text/plain": [
       "(1, 5)"
      ]
     },
     "execution_count": 33,
     "metadata": {},
     "output_type": "execute_result"
    }
   ],
   "source": [
    "# Expect (1, 5)\n",
    "minimal_package(10,1,5)"
   ]
  },
  {
   "cell_type": "code",
   "execution_count": 34,
   "id": "62f30b0d",
   "metadata": {},
   "outputs": [
    {
     "data": {
      "text/plain": [
       "(1, 5)"
      ]
     },
     "execution_count": 34,
     "metadata": {},
     "output_type": "execute_result"
    }
   ],
   "source": [
    "# Expect (1, 5)\n",
    "minimal_package(10,1,7)"
   ]
  },
  {
   "cell_type": "code",
   "execution_count": 35,
   "id": "d097fab0",
   "metadata": {},
   "outputs": [
    {
     "data": {
      "text/plain": [
       "(-1, -1)"
      ]
     },
     "execution_count": 35,
     "metadata": {},
     "output_type": "execute_result"
    }
   ],
   "source": [
    "# Expect (-1,-1)\n",
    "minimal_package(10, 1, 3)"
   ]
  },
  {
   "cell_type": "code",
   "execution_count": 36,
   "id": "87c1889a",
   "metadata": {},
   "outputs": [
    {
     "data": {
      "text/plain": [
       "(2, 0)"
      ]
     },
     "execution_count": 36,
     "metadata": {},
     "output_type": "execute_result"
    }
   ],
   "source": [
    "# Expect (2,0)\n",
    "minimal_package(10, 2, 0)"
   ]
  },
  {
   "cell_type": "code",
   "execution_count": 37,
   "id": "b2c9a808",
   "metadata": {},
   "outputs": [
    {
     "data": {
      "text/plain": [
       "(-1, -1)"
      ]
     },
     "execution_count": 37,
     "metadata": {},
     "output_type": "execute_result"
    }
   ],
   "source": [
    "# Expect (-1, -1)\n",
    "minimal_package(3, 0, 0)"
   ]
  },
  {
   "cell_type": "code",
   "execution_count": 38,
   "id": "cf209cb2",
   "metadata": {},
   "outputs": [
    {
     "data": {
      "text/plain": [
       "(1, 0)"
      ]
     },
     "execution_count": 38,
     "metadata": {},
     "output_type": "execute_result"
    }
   ],
   "source": [
    "# Expect (1,0)\n",
    "minimal_package(5, 2, 1)"
   ]
  },
  {
   "cell_type": "code",
   "execution_count": 39,
   "id": "25c1a0c2",
   "metadata": {},
   "outputs": [
    {
     "data": {
      "text/plain": [
       "(1, 0)"
      ]
     },
     "execution_count": 39,
     "metadata": {},
     "output_type": "execute_result"
    }
   ],
   "source": [
    "# Expect (1,0)\n",
    "minimal_package(3, 1, 1)"
   ]
  },
  {
   "cell_type": "code",
   "execution_count": 40,
   "id": "78c83c5c",
   "metadata": {},
   "outputs": [
    {
     "data": {
      "text/plain": [
       "(1, 0)"
      ]
     },
     "execution_count": 40,
     "metadata": {},
     "output_type": "execute_result"
    }
   ],
   "source": [
    "# Expect (1,0)\n",
    "minimal_package(3, 2, 1)"
   ]
  },
  {
   "cell_type": "code",
   "execution_count": 41,
   "id": "8d90fc06",
   "metadata": {},
   "outputs": [
    {
     "data": {
      "text/plain": [
       "(-1, -1)"
      ]
     },
     "execution_count": 41,
     "metadata": {},
     "output_type": "execute_result"
    }
   ],
   "source": [
    "# Expect (-1,-1)\n",
    "minimal_package(0, 2, 1)"
   ]
  },
  {
   "cell_type": "code",
   "execution_count": 42,
   "id": "bad48a44",
   "metadata": {},
   "outputs": [
    {
     "data": {
      "text/plain": [
       "(2, 0)"
      ]
     },
     "execution_count": 42,
     "metadata": {},
     "output_type": "execute_result"
    }
   ],
   "source": [
    "# Expect (2, 0)\n",
    "minimal_package(7, 2, 10)"
   ]
  }
 ],
 "metadata": {
  "kernelspec": {
   "display_name": "Python 3 (ipykernel)",
   "language": "python",
   "name": "python3"
  },
  "language_info": {
   "codemirror_mode": {
    "name": "ipython",
    "version": 3
   },
   "file_extension": ".py",
   "mimetype": "text/x-python",
   "name": "python",
   "nbconvert_exporter": "python",
   "pygments_lexer": "ipython3",
   "version": "3.10.8"
  }
 },
 "nbformat": 4,
 "nbformat_minor": 5
}
